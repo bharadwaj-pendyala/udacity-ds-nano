{
 "cells": [
  {
   "cell_type": "markdown",
   "metadata": {
    "tags": []
   },
   "source": [
    "# Udacity Nano Section - Python Refresher"
   ]
  },
  {
   "cell_type": "markdown",
   "metadata": {},
   "source": [
    "my_dict = {'a':[0, 1, 2, 3], 'b':[0, 1, 2, 3], 'c':[0, 1, 2, 3], 'd':[0, 1, 2, 3]}\n",
    "i = 0\n",
    "output = []\n",
    "for key in my_dict:\n",
    "    output.append(my_dict[key][i])\n",
    "    i += 1\n",
    "print(output)"
   ]
  },
  {
   "cell_type": "code",
   "execution_count": null,
   "metadata": {},
   "outputs": [],
   "source": [
    "# Examples of iteration with for loops.\n",
    "\n",
    "my_list = [0, 1, 2, 3, 4, 5]\n",
    "\n",
    "# Print each value in my_list. Note you can use the \"in\" keyword to iterate over a list.\n",
    "for item in my_list:\n",
    "    print('The value of item is: ' + str(item))\n",
    "\n",
    "# Print each index and value pair.\n",
    "for i, value in enumerate(my_list):\n",
    "    print('The index value is: ' + str(i) + '. The value at i is: ' + str(value))\n",
    "\n",
    "# Print each number from 0 to 9 using a while loop.\n",
    "i = 0\n",
    "while(i < 10):\n",
    "    print(i)\n",
    "    i += 1\n",
    "\n",
    "# Print each key and dictionary value. Note that you can use the \"in\" keyword \n",
    "# to iterate over dictionary keys.\n",
    "my_dict = {'a': 'jill', 'b': 'tom', 'c': 'tim'}\n",
    "for key in my_dict:\n",
    "    print(key + ', ' + my_dict[key])"
   ]
  },
  {
   "cell_type": "code",
   "execution_count": null,
   "metadata": {},
   "outputs": [],
   "source": [
    "num = 5\n",
    "if num < 5:\n",
    "    print('The number is smaller than 5.')\n",
    "elif num == 5:\n",
    "    print('The number equals 5.')\n",
    "else:\n",
    "    print('The number is greater than 5.')"
   ]
  },
  {
   "cell_type": "code",
   "execution_count": 54,
   "metadata": {},
   "outputs": [
    {
     "name": "stdout",
     "output_type": "stream",
     "text": [
      "2\n",
      "0.2\n",
      "None\n",
      "None\n"
     ]
    }
   ],
   "source": [
    "def smallest_positive(in_list):\n",
    "    # TODO: Define a control structure that finds the smallest positive\n",
    "    # number in in_list and returns the correct smallest number.\n",
    "\n",
    "    min = None\n",
    "    for item in in_list:\n",
    "        if item > 0: \n",
    "            if min == None or item < min:\n",
    "                min = item\n",
    "    return min\n",
    "\n",
    "# Test cases\n",
    "\n",
    "print(smallest_positive([4, -6, 7, 2, -4, 10]))\n",
    "# Correct output: 2\n",
    "\n",
    "print(smallest_positive([.2, 5, 3, -.1, 7, 7, 6]))\n",
    "# Correct output: 0.2\n",
    "\n",
    "print(smallest_positive([-6, -9, -7]))\n",
    "# Correct output: None\n",
    "\n",
    "print(smallest_positive([]))\n",
    "# Correct output: None"
   ]
  },
  {
   "cell_type": "code",
   "execution_count": 18,
   "metadata": {},
   "outputs": [
    {
     "name": "stdout",
     "output_type": "stream",
     "text": [
      "['spring2020', 'fall2020']\n",
      "[]\n"
     ]
    }
   ],
   "source": [
    "courses = {\n",
    "    'spring2020': { 'cs101': {'name': 'Building a Search Engine',\n",
    "                           'teacher': 'Dave',\n",
    "                           'assistant': 'Peter C.'},\n",
    "                 'cs373': {'name': 'Programming a Robotic Car',\n",
    "                           'teacher': 'Sebastian',\n",
    "                           'assistant': 'Andy'}},\n",
    "    'fall2020': { 'cs101': {'name': 'Building a Search Engine',\n",
    "                           'teacher': 'Dave',\n",
    "                           'assistant': 'Sarah'},\n",
    "                 'cs212': {'name': 'The Design of Computer Programs',\n",
    "                           'teacher': 'Peter N.',\n",
    "                           'assistant': 'Andy',\n",
    "                           'prereq': 'cs101'},\n",
    "                 'cs253': {'name': 'Web Application Engineering - Building a Blog',\n",
    "                           'teacher': 'Steve',\n",
    "                           'prereq': 'cs101'},\n",
    "                 'cs262': {'name': 'Programming Languages - Building a Web Browser',\n",
    "                           'teacher': 'Wes',\n",
    "                           'assistant': 'Peter C.',\n",
    "                           'prereq': 'cs101'},\n",
    "                 'cs373': {'name': 'Programming a Robotic Car',\n",
    "                           'teacher': 'Sebastian'},\n",
    "                 'cs387': {'name': 'Applied Cryptography',\n",
    "                           'teacher': 'Dave'}},\n",
    "    'spring2044': { 'cs001': {'name': 'Building a Quantum Holodeck',\n",
    "                           'teacher': 'Dorina'},\n",
    "                        'cs003': {'name': 'Programming a Robotic Robotics Teacher',\n",
    "                           'teacher': 'Jasper'},\n",
    "                     }\n",
    "    }\n",
    "    \n",
    "## sol \n",
    "\n",
    "# def when_offered(courses, course):\n",
    "#     # TODO: Fill out the function here.\n",
    "#     semesters = []\n",
    "#     for semester in courses:\n",
    "#         if course in courses[semester]:\n",
    "#             semesters.append(semester)\n",
    "#     # TODO: Return list of semesters here.\n",
    "#     return semesters\n",
    "\n",
    "    \n",
    "\n",
    "def when_offered(courses, course):\n",
    "    # TODO: Fill out the function here.\n",
    "    sems = []\n",
    "    for sem in courses:\n",
    "        if course in courses[sem]:\n",
    "            sems.append(sem)\n",
    "    # TODO: Return list of semesters here.\n",
    "    return sems\n",
    "\n",
    "\n",
    "print(when_offered(courses, 'cs101'))\n",
    "# Correct result: \n",
    "# ['fall2020', 'spring2020']\n",
    "\n",
    "print(when_offered(courses, 'bio893'))\n",
    "# Correct result: \n",
    "# []"
   ]
  },
  {
   "cell_type": "code",
   "execution_count": null,
   "metadata": {},
   "outputs": [],
   "source": []
  },
  {
   "cell_type": "code",
   "execution_count": null,
   "metadata": {},
   "outputs": [],
   "source": []
  }
 ],
 "metadata": {
  "kernelspec": {
   "display_name": "Python 3 (ipykernel)",
   "language": "python",
   "name": "python3"
  },
  "language_info": {
   "codemirror_mode": {
    "name": "ipython",
    "version": 3
   },
   "file_extension": ".py",
   "mimetype": "text/x-python",
   "name": "python",
   "nbconvert_exporter": "python",
   "pygments_lexer": "ipython3",
   "version": "3.7.10"
  }
 },
 "nbformat": 4,
 "nbformat_minor": 4
}
